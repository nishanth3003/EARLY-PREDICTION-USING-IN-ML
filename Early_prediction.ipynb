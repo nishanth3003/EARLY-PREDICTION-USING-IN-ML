{
  "nbformat": 4,
  "nbformat_minor": 0,
  "metadata": {
    "colab": {
      "provenance": [],
      "authorship_tag": "ABX9TyOuBhmXaYtKRnnpwK16D/q3",
      "include_colab_link": true
    },
    "kernelspec": {
      "name": "python3",
      "display_name": "Python 3"
    },
    "language_info": {
      "name": "python"
    }
  },
  "cells": [
    {
      "cell_type": "markdown",
      "metadata": {
        "id": "view-in-github",
        "colab_type": "text"
      },
      "source": [
        "<a href=\"https://colab.research.google.com/github/nishanth3003/EARLY-PREDICTION-USING-IN-ML/blob/main/Early_prediction.ipynb\" target=\"_parent\"><img src=\"https://colab.research.google.com/assets/colab-badge.svg\" alt=\"Open In Colab\"/></a>"
      ]
    },
    {
      "cell_type": "code",
      "execution_count": null,
      "metadata": {
        "id": "rQdfXvpSroxo"
      },
      "outputs": [],
      "source": []
    },
    {
      "cell_type": "markdown",
      "source": [
        "Import the libraries"
      ],
      "metadata": {
        "id": "G1RM4kZXrpxY"
      }
    },
    {
      "cell_type": "code",
      "source": [
        "import pandas as pd\n",
        "import numpy as np\n",
        "from collections import counter as c\n",
        "import matplotlib.pyplot as plt\n",
        "from sklearn.metrics import accuracy_score, confusion_matrix\n",
        "from sklearn.model_selection import train_test_split\n",
        "from sklearn.preprocessing import LabelEncoder\n",
        "from sklearn.linear_model import logisticRegression\n",
        "import pickle\n"
      ],
      "metadata": {
        "id": "Jf7SuxzesJM8",
        "outputId": "1a8a2666-1b1b-45c0-c7ee-ff806a3d3d86",
        "colab": {
          "base_uri": "https://localhost:8080/",
          "height": 373
        }
      },
      "execution_count": null,
      "outputs": [
        {
          "output_type": "error",
          "ename": "ImportError",
          "evalue": "ignored",
          "traceback": [
            "\u001b[0;31m---------------------------------------------------------------------------\u001b[0m",
            "\u001b[0;31mImportError\u001b[0m                               Traceback (most recent call last)",
            "\u001b[0;32m<ipython-input-1-e21f8e65877f>\u001b[0m in \u001b[0;36m<cell line: 3>\u001b[0;34m()\u001b[0m\n\u001b[1;32m      1\u001b[0m \u001b[0;32mimport\u001b[0m \u001b[0mpandas\u001b[0m \u001b[0;32mas\u001b[0m \u001b[0mpd\u001b[0m\u001b[0;34m\u001b[0m\u001b[0;34m\u001b[0m\u001b[0m\n\u001b[1;32m      2\u001b[0m \u001b[0;32mimport\u001b[0m \u001b[0mnumpy\u001b[0m \u001b[0;32mas\u001b[0m \u001b[0mnp\u001b[0m\u001b[0;34m\u001b[0m\u001b[0;34m\u001b[0m\u001b[0m\n\u001b[0;32m----> 3\u001b[0;31m \u001b[0;32mfrom\u001b[0m \u001b[0mcollections\u001b[0m \u001b[0;32mimport\u001b[0m \u001b[0mcounter\u001b[0m \u001b[0;32mas\u001b[0m \u001b[0mc\u001b[0m\u001b[0;34m\u001b[0m\u001b[0;34m\u001b[0m\u001b[0m\n\u001b[0m\u001b[1;32m      4\u001b[0m \u001b[0;32mimport\u001b[0m \u001b[0mmatplotlib\u001b[0m\u001b[0;34m.\u001b[0m\u001b[0mpyplot\u001b[0m \u001b[0;32mas\u001b[0m \u001b[0mplt\u001b[0m\u001b[0;34m\u001b[0m\u001b[0;34m\u001b[0m\u001b[0m\n\u001b[1;32m      5\u001b[0m \u001b[0;32mfrom\u001b[0m \u001b[0msklearn\u001b[0m\u001b[0;34m.\u001b[0m\u001b[0mmetrics\u001b[0m \u001b[0;32mimport\u001b[0m \u001b[0maccuracy_score\u001b[0m\u001b[0;34m,\u001b[0m \u001b[0mconfusion_matrix\u001b[0m\u001b[0;34m\u001b[0m\u001b[0;34m\u001b[0m\u001b[0m\n",
            "\u001b[0;31mImportError\u001b[0m: cannot import name 'counter' from 'collections' (/usr/lib/python3.9/collections/__init__.py)",
            "",
            "\u001b[0;31m---------------------------------------------------------------------------\u001b[0;32m\nNOTE: If your import is failing due to a missing package, you can\nmanually install dependencies using either !pip or !apt.\n\nTo view examples of installing some common dependencies, click the\n\"Open Examples\" button below.\n\u001b[0;31m---------------------------------------------------------------------------\u001b[0m\n"
          ],
          "errorDetails": {
            "actions": [
              {
                "action": "open_url",
                "actionText": "Open Examples",
                "url": "/notebooks/snippets/importing_libraries.ipynb"
              }
            ]
          }
        }
      ]
    },
    {
      "cell_type": "markdown",
      "source": [
        "Read the Dataset"
      ],
      "metadata": {
        "id": "7u0x-KzAwXLg"
      }
    },
    {
      "cell_type": "code",
      "source": [
        "data=pd.read_csv(\"chronickidneydisease.csv\") #loading the CSV data\n",
        "data.head() #return you the first 5 rows values"
      ],
      "metadata": {
        "id": "CjQ5UWk7we3u"
      },
      "execution_count": null,
      "outputs": []
    },
    {
      "cell_type": "code",
      "source": [],
      "metadata": {
        "id": "Urp_KrC1xAK7"
      },
      "execution_count": null,
      "outputs": []
    },
    {
      "cell_type": "code",
      "source": [
        "Rename the Columns"
      ],
      "metadata": {
        "id": "DNBHStG0xANr"
      },
      "execution_count": null,
      "outputs": []
    },
    {
      "cell_type": "code",
      "source": [
        "data.columls #return all the colums names\n",
        "\n",
        "data data.columns=['age', 'blood_pressure', 'specific_gravity', 'albumin',\n",
        "\n",
        "'sugar', 'red_blood_cells', 'pus_cell', 'pus_cell_clumps', 'bacteria\",\n",
        " 'blood glucose random', 'blood_urea', 'serum_creatinine', 'sodium', 'potassium',\n",
        " 'hemoglobin', 'packed_cell_volume\", 'white_blood_cell_count', 'red_blood_cell_count,\n",
        " 'hypertension', 'diabetesmellitus', 'coronary artery_disease', 'appetite',\n",
        " 'pedal_edema', 'anemia', 'class'] \n",
        "\n",
        "data.columns\n"
      ],
      "metadata": {
        "id": "5AGbrNa1xVS-"
      },
      "execution_count": null,
      "outputs": []
    },
    {
      "cell_type": "markdown",
      "source": [],
      "metadata": {
        "id": "WW7qHLUWxLju"
      }
    },
    {
      "cell_type": "markdown",
      "source": [
        "Handling missing values"
      ],
      "metadata": {
        "id": "3jbhujSRydYD"
      }
    },
    {
      "cell_type": "code",
      "source": [
        "data.info()\n",
        "data.isnull().ary()\n",
        "data['blood glucose random'].fillna(data['blood glucose random'].mean(), inplace=True)\n",
        "\n",
        "data['blood pressure'].fillna(data['blood pressure'].mean(), inplace=True) data['blood urea']. fillna(data['blood_urea\"].mean(), inplace=True)\n",
        "\n",
        "data['hemoglobin']. fillna(data['hemoglobin'].mean(), inplace=True)\n",
        "\n",
        "data['packed_cell_volume'].fillna(data['packed_cell_volume'].mean(), inplace=True)\n",
        "\n",
        "data['potassium].fillna(data['potassium'].mean(), inplace=True) data['red_blood_cell_count].fillna(data['red_blood_cell_count'].mean(), inplace=True)\n",
        "\n",
        "data['serum creatinine'].fillna(data['serum_creatinine'].mean(), inplace=True)\n",
        "\n",
        "data['sodium'].fillna(data['sodium'].mean(), inplace=True)\n",
        "\n",
        "data['white_blood_cell_count].fillna(data['white_blood_cell_count'].mean(), inplace=True)\n",
        "\n",
        "data['age'].fillna(data['age*].mode()[0], inplace=Trum)\n",
        "\n",
        "data['hypertension'].fillna(data['hypertension].mode()[0],inplace=True)\n",
        "\n",
        "data['pus_cell_clumps'], fillna(data['pus_cell_clumps'].mode()[0],inplace=True)\n",
        "\n",
        "data['appetite'].fillna(data['appetite'].mode()[@]}, inplace=True) data['albumin ].fillna(data['albumin ]. mode()[0], inplace=True)\n",
        "\n",
        "data['pus_cell'].fillna(data['pus_cell'].mode()[0], inplace=True) data['red blood cells'].fillna(data['red_blood cells'].mode()[0],inplace=True)\n",
        "\n",
        "data['coronary artery disease'].fillna(data['coronary artery disease'], mode()[0], inplace=True)\n",
        "\n",
        "data['bacteria].fillna(data['bacteria'].mode()[0],inplace=True)\n",
        "\n",
        "data['anemia\"].fillna(data['anemia].mode()[0], inplace=True)\n",
        "\n",
        "data['sugar'].fillna(data['sugar'].mode()[0], inplace=True)\n",
        "\n",
        "data['diabetes mellitus'], fillna(data['diabetes mellitus ]. mode()[0],inplace=True)\n",
        "\n",
        "data['pedal_edema\"].fillna(data['pedal_edema].mode()[0],inplace=True)\n",
        "\n",
        "data[ 'specific gravity'].fillna(data[ 'specific gravity'].mode()[0],inplace=True)\n"
      ],
      "metadata": {
        "id": "j8nWjBWAyj7h",
        "outputId": "d28bff68-e876-49b2-fb3a-fa2c6e335fb7",
        "colab": {
          "base_uri": "https://localhost:8080/",
          "height": 130
        }
      },
      "execution_count": null,
      "outputs": [
        {
          "output_type": "error",
          "ename": "SyntaxError",
          "evalue": "ignored",
          "traceback": [
            "\u001b[0;36m  File \u001b[0;32m\"<ipython-input-2-f20ffc89638d>\"\u001b[0;36m, line \u001b[0;32m5\u001b[0m\n\u001b[0;31m    data['blood pressure'].fillna(data['blood pressure'].mean(), inplace=True) data['blood urea']. fillna(data['blood_urea\"].mean(), inplace=True)\u001b[0m\n\u001b[0m                                                                               ^\u001b[0m\n\u001b[0;31mSyntaxError\u001b[0m\u001b[0;31m:\u001b[0m invalid syntax\n"
          ]
        }
      ]
    },
    {
      "cell_type": "markdown",
      "source": [
        "Handling categorial columns"
      ],
      "metadata": {
        "id": "eGQ8RkxYzEe2"
      }
    },
    {
      "cell_type": "code",
      "source": [
        "catcols=set(data.dtypes[data.dtypes=='0'].index.values)\n",
        "print(catcols)\n",
        "print(catcols)\n",
        "for i in catcols:\n",
        "    print(\"Columns :\",i)\n",
        "    print(c(data[i]))\n",
        "    print('*'*120+'\\n')\n",
        "    catcols.remove('red_blood_cell_count')\n",
        "catcols.remove('packed_cell_volume')\n",
        "catcols.revove('white_blood_cell_count')\n",
        "print(catcols)\n"
      ],
      "metadata": {
        "id": "BTpLFqq0zVpe"
      },
      "execution_count": null,
      "outputs": []
    },
    {
      "cell_type": "markdown",
      "source": [
        "Label Encoding of Categorical Columns"
      ],
      "metadata": {
        "id": "yVl2X7Ne0ui4"
      }
    },
    {
      "cell_type": "code",
      "source": [
        "catcols=['anemia', 'pedal edema\", \"appetite', 'bacteria', 'class', 'coronary artery_disease\", \"hypertension\", \"pus_cell', 'pus_cell_clumps', 'red_blood_cells'] \n",
        "\n",
        "from sklearn.preprocessing import LabelEncoder \n",
        "\n",
        "for i in catcols: \n",
        "\n",
        "print(\"LABEL ENCODING OF:\",1)\n",
        "\n",
        "LEi = LabelEncoder() creating an object of LobelEncoder\n",
        "\n",
        "print(c(data[i])) n\n",
        "\n",
        "data[i] = LEi.fit_transform(data[i]) \n",
        "\n",
        "print(c(data[i])) \n",
        "\n",
        "print(\"*\"*100)\n"
      ],
      "metadata": {
        "id": "0uObWrqk08OX"
      },
      "execution_count": null,
      "outputs": []
    },
    {
      "cell_type": "markdown",
      "source": [
        "Handling Numerical colums"
      ],
      "metadata": {
        "id": "N2I53g7P3RtY"
      }
    },
    {
      "cell_type": "code",
      "source": [
        "ontrols=set(data.dtypes[data.dtypes!='0'].index values]\n",
        "print(contcols)\n",
        "\n",
        "for i in (contcols)\n",
        "    print(\"Continous Columns :\",i)\n",
        "    print(c(data[i])\n",
        "print('*'*120+'\\n')\n",
        "\n",
        "contcols.remove(specific_gravity')\n",
        "contcols.remove('albumin')\n",
        "cokntcols.remove('sugar')\n",
        "print(contcols)\n",
        "\n",
        "contcols.add(\"red_blood_cell_count') \n",
        "\n",
        "contcols.add('packed_cell_volume')\n",
        "\n",
        "contcols.add('white_blood_cell_count')\n",
        "\n",
        "print(contcols)\n",
        "\n",
        "\n",
        "catcols.add('specific gravity')\n",
        "\n",
        "catcols.add('albumin')\n",
        "\n",
        "catcols.add('sugar')\n",
        "\n",
        "print(catcols) \n",
        "\n",
        "data['coronary artery disease'] = data.coronary_artery_disease.replace('\\tno','no'\n",
        "\n",
        "c(data[\"cormmary artery disease'])\n",
        "\n",
        "data[diabetesallitus'] = data.diabetes mellitus.replace(to replace={'\\tno':\"no','\\tyes':'yes','yes':} \n",
        "c(data['diabetesmellitus'])"
      ],
      "metadata": {
        "id": "mLENJ7uP3Z2y"
      },
      "execution_count": null,
      "outputs": []
    },
    {
      "cell_type": "markdown",
      "source": [
        "Exploratory Data Aanalysis"
      ],
      "metadata": {
        "id": "7T4_TBMP5Bz5"
      }
    },
    {
      "cell_type": "code",
      "source": [
        "data.describe()"
      ],
      "metadata": {
        "id": "YYLmwywv6Gkl"
      },
      "execution_count": null,
      "outputs": []
    },
    {
      "cell_type": "markdown",
      "source": [
        "Age distribution"
      ],
      "metadata": {
        "id": "0ML85DH96Jat"
      }
    },
    {
      "cell_type": "code",
      "source": [
        "sns.distplot(data.age)"
      ],
      "metadata": {
        "id": "x5zv8snb6QZA"
      },
      "execution_count": null,
      "outputs": []
    },
    {
      "cell_type": "markdown",
      "source": [
        "Bivariate analysis"
      ],
      "metadata": {
        "id": "LSrUL_O16XBV"
      }
    },
    {
      "cell_type": "code",
      "source": [
        "import matplotlib.pyplot as plt  \n",
        "fig-plt.figure(figsize=(5,5)) \n",
        "plt.scatter(data['age'],data['blood pressure'],color='blue') \n",
        "plt.scatter(data['age'], \n",
        "plt.ylabel('blood pressure')\n",
        "plt.title(\"age vs blood Scatter Plot\")"
      ],
      "metadata": {
        "id": "KeYp_K0W6eO4"
      },
      "execution_count": null,
      "outputs": []
    },
    {
      "cell_type": "markdown",
      "source": [
        "Multivarite analyis"
      ],
      "metadata": {
        "id": "tXVzwX3O6q6a"
      }
    },
    {
      "cell_type": "code",
      "source": [
        "plt.figure(figsize-(20,15), facecolor=\"white\")\n",
        "plotnumber = 1\n",
        "\n",
        "for column in contcols:\n",
        "  if plotnumber<-11: \n",
        "ax- plt.subplot(3,4,plotnumber) \n",
        "plt.scatter(data['age'],data[column])\n",
        "plt.xlabel(column,fontsize=20)\n",
        "plotnumber+=1\n",
        "plt.show()\n",
        "\n",
        "\n",
        "f,ax-plt.subplots(figsize=(18,10))\n",
        "\n",
        "sns.heatmap(data.corr(), annot=True, fmt=\".2f\", \",ax=ax,linewidths=0.5,linecolor=\"orange\")\n",
        "\n",
        "plt.xticks(rotation=45)\n",
        "\n",
        "plt.yticks(rotation=45)\n",
        "\n",
        "plt.show()"
      ],
      "metadata": {
        "id": "bKr-gsPi6xGQ"
      },
      "execution_count": null,
      "outputs": []
    },
    {
      "cell_type": "markdown",
      "source": [
        "Finding correlation between the independent Columns"
      ],
      "metadata": {
        "id": "b-ulXO_G64iP"
      }
    },
    {
      "cell_type": "code",
      "source": [
        "f,ax-plt.subplots(figsize=(18,10))\n",
        "\n",
        "sns.heatmap(data.corr(), annot=True, fmt=\".2f\", \",ax=ax,linewidths=0.5,linecolor=\"orange\")\n",
        "\n",
        "plt.xticks(rotation=45)\n",
        "\n",
        "plt.yticks(rotation=45)\n",
        "\n",
        "plt.show()"
      ],
      "metadata": {
        "id": "vgDYxGyR7KyK"
      },
      "execution_count": null,
      "outputs": []
    },
    {
      "cell_type": "code",
      "source": [
        "sns.countplot(data['class'])"
      ],
      "metadata": {
        "id": "dYuKXtoE7Qky"
      },
      "execution_count": null,
      "outputs": []
    },
    {
      "cell_type": "markdown",
      "source": [
        "scaling the data"
      ],
      "metadata": {
        "id": "6GmGs6na7aRJ"
      }
    },
    {
      "cell_type": "code",
      "source": [
        "sklearn.preprocessing import StandardScaler\n",
        "sc=StandardScalser()\n",
        "x_bal=sc.fit_transform(x)"
      ],
      "metadata": {
        "id": "wRjGoVVr7gu-"
      },
      "execution_count": null,
      "outputs": []
    },
    {
      "cell_type": "markdown",
      "source": [
        "Creating Independent and Dependent"
      ],
      "metadata": {
        "id": "54dV4rpV7npa"
      }
    },
    {
      "cell_type": "code",
      "source": [
        "selcals-[\"red_blood_cells', 'pus_cell', 'blood glucose random\", \"blood_area\", \"pedal edema\", \"anemia', 'diabetes mellitus', 'coronary artery disease\")\n",
        "\n",
        "x-pd.DataFrame(data,columns-selcols)\n",
        "\n",
        "y-pd.DataFrame(data,columns-[\"class\"}}\n",
        "\n",
        "print(x.shape)\n",
        "\n",
        "print(y.shape)"
      ],
      "metadata": {
        "id": "6DXXhzNo7sc3"
      },
      "execution_count": null,
      "outputs": []
    },
    {
      "cell_type": "markdown",
      "source": [
        "Spalitting the data into train and test"
      ],
      "metadata": {
        "id": "Pysc5OEi74Dh"
      }
    },
    {
      "cell_type": "code",
      "source": [
        "from sklearn.model_selection import train_test_split\n",
        "\n",
        "x_train_x_test,y_train,y test-train test split(x,y.test_size=0.2,random_state=2)\n"
      ],
      "metadata": {
        "id": "yFTVdfwZ8CQR"
      },
      "execution_count": null,
      "outputs": []
    },
    {
      "cell_type": "markdown",
      "source": [
        "ANN model"
      ],
      "metadata": {
        "id": "V8124aca8Ksr"
      }
    },
    {
      "cell_type": "code",
      "source": [
        "import tensorflow\n",
        "from tensorflow.keras.models import Sequential\n",
        "from tensorflow.keras.layers import Dense\n",
        "\n",
        "\n",
        "\n",
        "classification = Sequential()\n",
        "\n",
        "classification.add (Dense (30, activation='relu'))\n",
        "\n",
        "classification.add(Dense (128, activation='relu')) classification.add(Dense (64, activation='relu'))\n",
        "\n",
        "classification.add(Dense(32, activation='relu'))\n",
        "\n",
        "classification.add(Dense (1, activation='sigmoid'))\n",
        "\n",
        "classification.compile(optimizer \"adam,losse binary_crossentropy\", metrics=['accuracy'])\n",
        "\n",
        "classification.fit(x_train,y train,batch size-10,validation split-0.2,epochis=100)"
      ],
      "metadata": {
        "id": "E9mzPkYX8Mof"
      },
      "execution_count": null,
      "outputs": []
    },
    {
      "cell_type": "markdown",
      "source": [
        "Random Forest model"
      ],
      "metadata": {
        "id": "rBxybDio8X9C"
      }
    },
    {
      "cell_type": "code",
      "source": [
        "from sklearn.ensemble import RandomForestclassifier rfc - RandomForestclassifier(n_estimators-10, criterion-entropy\")\n",
        "\n",
        "rfc.fit(x_train,y_train)\n",
        "\n",
        "<ipython-input-255-b87bb2ba9825>:1: DataConversionWarning: A column-vecyor y (n_samples,), for example using ravel(). \n",
        "rfc.fit(x_train,y_train)\n",
        "RandomForestClassifier(criterion=\"entropy', n_estimators=10)\n",
        "\n",
        "y_predict = rfc.predict(x_test)\n",
        "\n",
        "y_predict_train= rfc.predict(x_train)"
      ],
      "metadata": {
        "id": "hJRenJ7B8fhT"
      },
      "execution_count": null,
      "outputs": []
    },
    {
      "cell_type": "markdown",
      "source": [
        "Decision tree model\n",
        "\n",
        "\n",
        "\n"
      ],
      "metadata": {
        "id": "aUvw-JSs8m-4"
      }
    },
    {
      "cell_type": "code",
      "source": [
        "From sklearn.free import Decisiontreeclassifier\n",
        "\n",
        "dtc - DecisionTreeclassifier(maxdepth-4,splitter-\"best\",criterion-entropy\")\n",
        "\n",
        "dtc.fit(x_train,y_train)\n",
        "\n",
        "DecisionTreeclassifier(criterion='entropy', max_depth=4)\n",
        "\n",
        "y_predict dtc.predict(x_test)\n",
        "\n",
        "y_predict\n"
      ],
      "metadata": {
        "id": "90Ddtm-_8uKj"
      },
      "execution_count": null,
      "outputs": []
    },
    {
      "cell_type": "markdown",
      "source": [
        "Logistic Regression"
      ],
      "metadata": {
        "id": "0ZmYI_wS85we"
      }
    },
    {
      "cell_type": "code",
      "source": [
        "from sklearn.metrics import accuracy score,classification_report\n",
        "\n",
        "y_predict = Igr.predict(x_ test)"
      ],
      "metadata": {
        "id": "YbgYOVx68-iK"
      },
      "execution_count": null,
      "outputs": []
    },
    {
      "cell_type": "markdown",
      "source": [
        "Testing the model"
      ],
      "metadata": {
        "id": "ppwY4XTM9d-w"
      }
    },
    {
      "cell_type": "code",
      "source": [
        " y_pred- 1gr.predict(((3.1.121.000000,36,0,0,0,1,011)\n",
        "\n",
        "print(y_pred) \n",
        "(y_prod)\n",
        "\n",
        "y_pred = dtc.predict({|1,1,121.000000, 36.0,0,0,1,0;])\n",
        "\n",
        "print(y_pred) \n",
        "(y_peed)\n",
        "\n",
        "y_pred= rfi.predict([[1,1,121.000000¸36,0,0,0,1,0)])\n",
        "\n",
        "print(y_pred). \n",
        "(y_peed)\n",
        "\n",
        "classification.save(\"ckd.h5\")\n",
        "\n",
        "\n",
        "\n",
        "y_pred=classification.predict(x_test)\n",
        "\n",
        "y_pred\n",
        "\n",
        "y_pred= (y_pred>0.5)\n",
        "y_pred\n",
        "\n",
        "def predict_exit(sample_value):\n",
        "\n",
        "# Convert list to numpy array sample_value = np.array(sample_value)\n",
        "\n",
        "# Reshape because sample value contains only 1 record sample_value = sample_value.reshape(1, -1)\n",
        "\n",
        "# Feature Scaling sample_value = sc.transform(sample_value)\n",
        "\n",
        "return classifier.predict(sample value)\n",
        "\n",
        "test-classification.predict([[1,1,121.000000, 36.0,0,0,1,0]]) if test==1: print(\"Prediction: High chance of CKD!\") \n",
        "else: print(\"Prediction: Low chance of CKD.')"
      ],
      "metadata": {
        "id": "aU7oDxhk9hZB"
      },
      "execution_count": null,
      "outputs": []
    },
    {
      "cell_type": "markdown",
      "source": [
        "Milestone 5: Performance Testing & Evaluate the results\n",
        "Testing model with multiple evaluation metrics"
      ],
      "metadata": {
        "id": "31VhE5dR90xU"
      }
    },
    {
      "cell_type": "code",
      "source": [
        "from sklearn import model selection\n",
        "\n",
        "models\n",
        "\n",
        "Clogg, Logistickegression()), CRF RandomForestclassifier());\n",
        "\n",
        "(Decisionfree,DecisionTreeclassifier()),\n",
        "\n",
        "results = []\n",
        "\n",
        "names-13\n",
        "\n",
        "scoring = \"accuracy, precision weighted\",\n",
        "\n",
        "\"recall weighted\", \"EX_weighted\", \"roc_and]\n",
        "\n",
        "target names['HO CI\", \"CD]\n",
        "\n",
        "for\n",
        "\n",
        "name, model in models:\n",
        "\n",
        "kfold model selection.Fold(n splits-5, shuffle-True, random state-90210) scoring-scorin\n",
        "\n",
        "cv_results - model selection.cross_validate(model, x _train, y train, cu-kfold, clf-model.fit(x train, y train)\n",
        "\n",
        "y_predclf.predict(x_test)\n",
        "\n",
        "print (name) print(classification_report(y_test, y pred, target_names-Target_names})\n",
        "\n",
        "results.append(cv results)\n",
        "\n",
        "names.append(name)) this df = pd.DataFrame(_results)\n",
        "\n",
        "this dr model ] = name\n",
        "\n",
        "dis.append(this_df)\n",
        "\n",
        "final-pd.concat(dfs, Ignore Index-True)\n",
        "\n",
        "return final\n",
        "\n",
        "Making the Confeston Matrix\n",
        "\n",
        "from sklearn.metrics import confusion_matrix\n",
        "\n",
        "cm=confusion matrixly test, y_predict)\n",
        "cm\n",
        "\n",
        "pit.figure(figsize-(8,6)\n",
        "\n",
        "sns.figure(Cm, cmap= Bus,annot='blue',annot=true, sticklabels-('c', ''), yticklabels- 'no du\", \"d\"]) \n",
        "plt.xlabel(Predicted values\")\n",
        "plt.ylabel('Actual values\")\n",
        "pit.title(\"Confusion Matrix für Ingistic Regression mode]\\\"} \n",
        "plt.show()\n",
        "\n",
        "Making the Confusion Matrix sklearn.metrics Import confusion matrix confusion matrix(y_test, y predict)\n",
        "\n",
        "array([[52, 21],\n",
        "\n",
        "[ 1, 25]], dtype-int64)\n",
        "\n",
        "Plotting confusion satis\n",
        "\n",
        "plt.figure(figsize=(8,6))\n",
        "\n",
        "plt.xlabel(Predicted values plt.ylabel('Actual values')\n",
        "plt.title(\"Confusion Matrix for DecisionTreeClassifier\") \n",
        "plt.show() "
      ],
      "metadata": {
        "id": "eWrQBOPm9837"
      },
      "execution_count": null,
      "outputs": []
    },
    {
      "cell_type": "markdown",
      "source": [
        "Evaluae the results"
      ],
      "metadata": {
        "id": "HFZzgpox-4g2"
      }
    },
    {
      "cell_type": "code",
      "source": [],
      "metadata": {
        "id": "uYrPz3HU_PVw"
      },
      "execution_count": null,
      "outputs": []
    },
    {
      "cell_type": "code",
      "source": [
        "bootstraps=[]\n",
        "\n",
        "for model in list(set(final,model.values)); model_df- final.loc[final.model -model] bootstraps.append(bootstrap)\n",
        "\n",
        "pootstrap model_df.sample(n-30, replace=True)\n",
        "\n",
        "strap_df- pd.concat(bootstraps, ignore_index-Trum)\n",
        "\n",
        "Its long pd.melt (bootstrap_df, ld_vars['model'], var_name-metrics, value_name=\"values\") metrics = ['fit time, score time'] fit time metries \n",
        "\n",
        "REGRIANCE HETRICS Its_long_nofit results_long.loc[\"results_long trics].isin(time_metrics)] get of without fit data\n",
        "\n",
        "its_long_nofit results_long_nofit.sort_values(by \"values\")\n",
        "\n",
        "Its long fit = results long.loc[results_long['metrics'].isin(time_metrics)] = df with fit data. Its_long_fit = results long fit.sort_values(by=\"values\")\n",
        "\n",
        "mport matplotlib.pyplot as plt\n",
        "\n",
        "Import seaborn as sns plt.figure(figsize=(20, 12))\n",
        "\n",
        "sns.set(Font scale-2.5) E = sns.boxplot(x=\"model\", y=\"values\", hue=\"metrics\", data-results long_nofit, palette=\"Set3\") \n",
        "plt.legend (bbox_to_anchor-(1.05, 1), loc-2, borderaxespad-.) \n",
        "plt.title(\"Comparison of Model by Classification Metric\") \n",
        "plt.savefig(\"//benchmark_models_performance.png\",dpi=300)|"
      ],
      "metadata": {
        "id": "Yn79h1vB_PZQ"
      },
      "execution_count": null,
      "outputs": []
    },
    {
      "cell_type": "markdown",
      "source": [
        "Model Delployment"
      ],
      "metadata": {
        "id": "vy_bLQiu_Ykl"
      }
    },
    {
      "cell_type": "code",
      "source": [
        "pickle.dump(1gr,open('CKD.pkl','wb'))"
      ],
      "metadata": {
        "id": "E91vUe-2_h2M"
      },
      "execution_count": null,
      "outputs": []
    },
    {
      "cell_type": "code",
      "source": [],
      "metadata": {
        "id": "HzCmP8eR5LVs"
      },
      "execution_count": null,
      "outputs": []
    }
  ]
}